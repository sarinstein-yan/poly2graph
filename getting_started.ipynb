{
 "cells": [
  {
   "cell_type": "markdown",
   "metadata": {},
   "source": [
    "# Poly2Graph Tutorial"
   ]
  },
  {
   "cell_type": "code",
   "execution_count": null,
   "metadata": {},
   "outputs": [],
   "source": [
    "import numpy as np\n",
    "import networkx as nx\n",
    "import sympy as sp\n",
    "from sympy.polys.polytools import Poly\n",
    "\n",
    "import matplotlib.pyplot as plt\n",
    "\n",
    "try:\n",
    "    import poly2graph as p2g\n",
    "except ImportError:\n",
    "    !pip install poly2graph\n",
    "    import poly2graph as p2g\n",
    "print('p2g version:', p2g.__version__)\n",
    "print('available functions:', p2g.__all__)"
   ]
  },
  {
   "cell_type": "markdown",
   "metadata": {},
   "source": [
    "## Spectral Graph Construction (`p2g.SpectralGraph`)"
   ]
  },
  {
   "cell_type": "code",
   "execution_count": null,
   "metadata": {},
   "outputs": [],
   "source": [
    "# always start by initializing the symbols for k, z, and E\n",
    "k = sp.symbols('k', real=True)\n",
    "z, E = sp.symbols('z E', complex=True)"
   ]
  },
  {
   "cell_type": "markdown",
   "metadata": {},
   "source": [
    "### A generic **one-band** example:"
   ]
  },
  {
   "cell_type": "markdown",
   "metadata": {},
   "source": [
    "characteristic polynomial:\n",
    "$$P(E,z) := h(z) - E = z^4 -z -z^{-2} -E$$\n",
    "Its Bloch Hamiltonian (Fourier transformed Hamiltonian in momentum space) is a scalar function:\n",
    "$$h(z) = z^4 - z - z^{-2}$$\n",
    "where the phase factor is defined as $z:=e^{ik}$.\n",
    "Expressed in terms of crystal momentum $k$:\n",
    "$$h(k) = e^{4ik} - e^{ik} - e^{-2ik}$$"
   ]
  },
  {
   "cell_type": "markdown",
   "metadata": {},
   "source": [
    "The valid input formats to initialize a `p2g.SpectralGraph` object are:\n",
    "1. Characteristic polynomial in terms of `z` and `E`:\n",
    "   - as a string of the Poly in terms of `z` and `E`\n",
    "   - as a `sympy`'s `Poly` (`sympy.polys.polytools.Poly`) with {`z`, `1/z`, `E`} as generators\n",
    "2. Bloch Hamiltonian in terms of `k` or `z`\n",
    "   - as a `sympy` `Matrix` in terms of `k`\n",
    "   - as a `sympy` `Matrix` in terms of `z`\n",
    "\n",
    "All the following `characteristic`s are valid and will initialize to the same characteristic polynomial and therefore produce the same spectral graph"
   ]
  },
  {
   "cell_type": "code",
   "execution_count": null,
   "metadata": {},
   "outputs": [],
   "source": [
    "char_poly_str = '-z**-2 - E - z + z**4'\n",
    "\n",
    "char_poly_Poly = Poly(\n",
    "    -z**-2 - E - z + z**4,\n",
    "    z, 1/z, E # generators are z, 1/z, E\n",
    ")\n",
    "\n",
    "phase_k = sp.exp(sp.I*k)\n",
    "char_hamil_k = sp.Matrix([-phase_k**2 - phase_k + phase_k**4])\n",
    "\n",
    "char_hamil_z = sp.Matrix([-z**-2 - E - z + z**4])"
   ]
  },
  {
   "cell_type": "markdown",
   "metadata": {},
   "source": [
    "Let us just use the string to initialize and see a set of properties that are computed automatically"
   ]
  },
  {
   "cell_type": "code",
   "execution_count": null,
   "metadata": {},
   "outputs": [],
   "source": [
    "sg = p2g.SpectralGraph(char_poly_str, k=k, z=z, E=E)"
   ]
  },
  {
   "cell_type": "markdown",
   "metadata": {},
   "source": [
    "Characteristic polynomial:"
   ]
  },
  {
   "cell_type": "code",
   "execution_count": null,
   "metadata": {},
   "outputs": [],
   "source": [
    "sg.ChP"
   ]
  },
  {
   "cell_type": "markdown",
   "metadata": {},
   "source": [
    "Bloch Hamiltonian:\n",
    "- For one-band model, it is a unique, rank-0 matrix (scalar)"
   ]
  },
  {
   "cell_type": "code",
   "execution_count": null,
   "metadata": {},
   "outputs": [],
   "source": [
    "sg.h_k"
   ]
  },
  {
   "cell_type": "code",
   "execution_count": null,
   "metadata": {},
   "outputs": [],
   "source": [
    "sg.h_z"
   ]
  },
  {
   "cell_type": "markdown",
   "metadata": {},
   "source": [
    "The Frobenius companion matrix of `P(E)(z)`:\n",
    "- treating `E` as parameter and `z` as variable\n",
    "- Its eigenvalues are the roots of the characteristic polynomial at a fixed complex energy `E`. Thus it is useful to calculate the GBZ (generalized Brillouin zone), the spectral potential (Ronkin function), etc."
   ]
  },
  {
   "cell_type": "code",
   "execution_count": null,
   "metadata": {},
   "outputs": [],
   "source": [
    "sg.companion_E"
   ]
  },
  {
   "cell_type": "code",
   "execution_count": null,
   "metadata": {},
   "outputs": [],
   "source": [
    "print('Number of bands:', sg.num_bands)\n",
    "print('Max hopping length to the right:', sg.poly_p)\n",
    "print('Max hopping length to the left:', sg.poly_q)"
   ]
  },
  {
   "cell_type": "markdown",
   "metadata": {},
   "source": [
    "A real-space Hamiltonian of a finite chain and its energy spectrum:"
   ]
  },
  {
   "cell_type": "code",
   "execution_count": null,
   "metadata": {},
   "outputs": [],
   "source": [
    "H = sg.real_space_H(\n",
    "    N=40,        # number of unit cells\n",
    "    pbc=False,   # open boundary conditions\n",
    "    max_dim=500  # maximum dimension of the Hamiltonian matrix (for numerical accuracy)\n",
    ")\n",
    "\n",
    "energy = np.linalg.eigvals(H)\n",
    "\n",
    "fig, ax = plt.subplots(figsize=(3, 3))\n",
    "ax.plot(energy.real, energy.imag, 'k.', markersize=5)\n",
    "ax.set(xlabel='Re(E)', ylabel='Im(E)', \\\n",
    "xlim=sg.spectral_square[:2], ylim=sg.spectral_square[2:])\n",
    "plt.tight_layout()\n",
    "# plt.savefig('./assets/finite_spectrum_one_band.png', dpi=300)\n",
    "plt.show()"
   ]
  },
  {
   "cell_type": "markdown",
   "metadata": {},
   "source": [
    "**The set of spectral functions** (whose values plotted on the complex energy square, returned as a 2D array):\n",
    "\n",
    "- **Density of States (DOS)**\n",
    "\n",
    "  Defined as the number of states per unit energy area in the complex energy plane.\n",
    "  $$\\rho(E) = \\lim_{N\\to\\infty}\\sum_n \\frac{1}{N} \\delta(E-\\epsilon_n)$$\n",
    "  where $\\epsilon_n$ are the eigenvalues of the Hamiltonian $H$.\n",
    "  Imagine to assign electric charge $1/N$ to each eigenvalue $\\epsilon_n$, then the density of states $\\rho(E)$ is treated as a *charge density*, therefore can be interpreted as the laplacian of a *spectral potential* $\\Phi(E)$:\n",
    "  $$\\rho(E) = -\\frac{1}{2\\pi} \\Delta \\Phi(E)$$\n",
    "  $\\Delta = \\partial_{\\text{Re} E}^2 + \\partial_{\\text{Im} E}^2$ is the Laplacian operator on the complex energy plane. Laplacian operator extracts curvature; thus, geometrically speaking, the loci of spectral graph $\\mathcal{G}$ resides on the *ridges* of the Coulomb potential landscape.\n",
    "\n",
    "- **Spectral Potential (Ronkin function)**\n",
    "\n",
    "  It can be proven that the spectral potential $\\Phi(E)$ can be efficiently computed from the roots $|z_i(E)|$ of the characteristic polynomial $P(E)(z)$ and the leading coefficient $a_q(E)$ at a complex energy $E$:\n",
    "  $$ \\begin{aligned}\n",
    "  \\Phi(E) &= - \\lim_{N\\to\\infty} \\sum_{\\epsilon_n} \\log|E-\\epsilon_n| \\\\\n",
    "  &= - \\int \\rho(E')\\log|E-E'| \\; d^2E' \\\\\n",
    "  &= - \\log|a_q(E)| - \\sum_{i=p+1}^{p+q} \\log|z_i(E)| \\\\\n",
    "  \\end{aligned} $$\n",
    "\n",
    "- Graph Skeleton (Binarized DOS)"
   ]
  },
  {
   "cell_type": "code",
   "execution_count": null,
   "metadata": {},
   "outputs": [],
   "source": [
    "phi, dos, binaried_dos = sg.spectral_images(device='/gpu:0') # default is '/cpu:0'\n",
    "# the computation bottleneck is implemented in tensorflow\n",
    "\n",
    "fig, axes = plt.subplots(1, 3, figsize=(8, 3), sharex=True, sharey=True)\n",
    "axes[0].imshow(phi, extent=sg.spectral_square, cmap='Spectral_r')\n",
    "axes[0].set(xlabel='Re(E)', ylabel='Im(E)', title='Spectral Potential')\n",
    "axes[1].imshow(dos, extent=sg.spectral_square, cmap='viridis')\n",
    "axes[1].set(xlabel='Re(E)', title='Density of States')\n",
    "axes[2].imshow(binaried_dos, extent=sg.spectral_square, cmap='gray')\n",
    "axes[2].set(xlabel='Re(E)', title='Graph Skeleton')\n",
    "plt.tight_layout()\n",
    "# # plt.savefig('./assets/spectral_images_one_band.png', dpi=300)\n",
    "plt.show()"
   ]
  },
  {
   "cell_type": "code",
   "execution_count": null,
   "metadata": {},
   "outputs": [],
   "source": [
    "### interactive visualization of spectral potential\n",
    "import plotly.graph_objects as go\n",
    "E_re = np.linspace(*sg.spectral_square[:2], phi.shape[0])\n",
    "E_im = np.linspace(*sg.spectral_square[2:], phi.shape[1])\n",
    "fig = go.Figure(data=[go.Surface(z=phi, x=E_re, y=E_im, \n",
    "                opacity=0.6, colorscale='Spectral_r')])\n",
    "fig.update_layout(\n",
    "    scene=dict(\n",
    "        aspectratio=dict(x=1.5, y=1, z=.8),\n",
    "        xaxis_title='Re(E)',yaxis_title='Im(E)',zaxis_title='Phi(E)',\n",
    "    ),\n",
    "    title='3D Surface Plot of Spectral Potential',\n",
    "    width=700, height=600\n",
    ")\n",
    "fig.show()"
   ]
  },
  {
   "cell_type": "markdown",
   "metadata": {},
   "source": [
    "#### The spectral graph $\\mathcal{G}$"
   ]
  },
  {
   "cell_type": "code",
   "execution_count": null,
   "metadata": {},
   "outputs": [],
   "source": [
    "graph = sg.spectral_graph(\n",
    "    device='/gpu:0', # default is '/cpu:0'\n",
    "    short_edge_threshold=20, \n",
    "    # ^ node pairs or edges with distance < threshold pixels are merged\n",
    ")\n",
    "\n",
    "fig, ax = plt.subplots(figsize=(3, 3))\n",
    "pos = nx.get_node_attributes(graph, 'pos')\n",
    "nx.draw_networkx_nodes(graph, pos, alpha=0.8, ax=ax,\n",
    "            node_size=50, node_color='#A60628')\n",
    "nx.draw_networkx_edges(graph, pos, alpha=0.8, ax=ax,\n",
    "            width=5, edge_color='#348ABD')\n",
    "plt.tight_layout()\n",
    "# plt.savefig('./assets/spectral_graph_one_band.png', dpi=300)\n",
    "plt.show()"
   ]
  },
  {
   "cell_type": "markdown",
   "metadata": {},
   "source": [
    "### A generic **multi-band** example:"
   ]
  },
  {
   "cell_type": "markdown",
   "metadata": {},
   "source": [
    "characteristic polynomial (four bands):\n",
    "$$P(E,z) := \\det(\\textbf{h}(z) - E\\;\\textbf{I}) = z^2 + 1/z^2 + E z - E^4$$\n",
    "One of its possible Bloch Hamiltonians in terms of $z$:\n",
    "$$\\textbf{h}(z)=\\begin{pmatrix}\n",
    "0 & 0 & 0 & z^2 + 1/z^2 \\\\\n",
    "1 & 0 & 0 & z \\\\\n",
    "0 & 1 & 0 & 0 \\\\\n",
    "0 & 0 & 1 & 0 \\\\\n",
    "\\end{pmatrix}$$"
   ]
  },
  {
   "cell_type": "code",
   "execution_count": null,
   "metadata": {},
   "outputs": [],
   "source": [
    "sg_multi = p2g.SpectralGraph(\"z**2 + 1/z**2 + E*z - E**4\", k, z, E)"
   ]
  },
  {
   "cell_type": "code",
   "execution_count": null,
   "metadata": {},
   "outputs": [],
   "source": [
    "sg_multi.ChP"
   ]
  },
  {
   "cell_type": "markdown",
   "metadata": {},
   "source": [
    "Bloch Hamiltonian:\n",
    "- For multi-band model, if the `p2g.SpectralGraph` is not initialized with a `sympy` `Matrix`, then `poly2graph` will use the companion matrix of the characteristic polynomial `P(z)(E)` (treating `z` as parameter and `E` as variable) as the Bloch Hamiltonian -- this is one of the set of possible band Hamiltonians that possesses the same energy spectrum and thus the same spectral graph."
   ]
  },
  {
   "cell_type": "code",
   "execution_count": null,
   "metadata": {},
   "outputs": [],
   "source": [
    "sg_multi.h_k"
   ]
  },
  {
   "cell_type": "code",
   "execution_count": null,
   "metadata": {},
   "outputs": [],
   "source": [
    "sg_multi.h_z"
   ]
  },
  {
   "cell_type": "code",
   "execution_count": null,
   "metadata": {},
   "outputs": [],
   "source": [
    "sg_multi.companion_E"
   ]
  },
  {
   "cell_type": "code",
   "execution_count": null,
   "metadata": {},
   "outputs": [],
   "source": [
    "print('Number of bands:', sg_multi.num_bands)\n",
    "print('Max hopping length to the right:', sg_multi.poly_p)\n",
    "print('Max hopping length to the left:', sg_multi.poly_q)"
   ]
  },
  {
   "cell_type": "code",
   "execution_count": null,
   "metadata": {},
   "outputs": [],
   "source": [
    "H_multi = sg_multi.real_space_H(\n",
    "    N=40,        # number of unit cells\n",
    "    pbc=False,   # open boundary conditions\n",
    "    max_dim=500  # maximum dimension of the Hamiltonian matrix (for numerical accuracy)\n",
    ")\n",
    "\n",
    "energy_multi = np.linalg.eigvals(H_multi)\n",
    "\n",
    "fig, ax = plt.subplots(figsize=(3, 3))\n",
    "ax.plot(energy_multi.real, energy_multi.imag, 'k.', markersize=5)\n",
    "ax.set(xlabel='Re(E)', ylabel='Im(E)', \\\n",
    "xlim=sg_multi.spectral_square[:2], ylim=sg_multi.spectral_square[2:])\n",
    "plt.tight_layout()\n",
    "# plt.savefig('./assets/finite_spectrum_multi_band.png', dpi=300)\n",
    "plt.show()"
   ]
  },
  {
   "cell_type": "code",
   "execution_count": null,
   "metadata": {},
   "outputs": [],
   "source": [
    "phi_multi, dos_multi, binaried_dos_multi = sg_multi.spectral_images(device='/gpu:0') # default is '/cpu:0'\n",
    "# the computation bottleneck is implemented in tensorflow\n",
    "\n",
    "fig, axes = plt.subplots(1, 3, figsize=(8, 3), sharex=True, sharey=True)\n",
    "axes[0].imshow(phi_multi, extent=sg_multi.spectral_square, cmap='Spectral_r')\n",
    "axes[0].set(xlabel='Re(E)', ylabel='Im(E)', title='Spectral Potential')\n",
    "axes[1].imshow(dos_multi, extent=sg_multi.spectral_square, cmap='viridis')\n",
    "axes[1].set(xlabel='Re(E)', title='Density of States')\n",
    "axes[2].imshow(binaried_dos_multi, extent=sg_multi.spectral_square, cmap='gray')\n",
    "axes[2].set(xlabel='Re(E)', title='Graph Skeleton')\n",
    "plt.tight_layout()\n",
    "# plt.savefig('./assets/spectral_images_multi_band.png', dpi=300)\n",
    "plt.show()"
   ]
  },
  {
   "cell_type": "markdown",
   "metadata": {},
   "source": [
    "#### The spectral graph $\\mathcal{G}$"
   ]
  },
  {
   "cell_type": "code",
   "execution_count": null,
   "metadata": {},
   "outputs": [],
   "source": [
    "graph_multi = sg_multi.spectral_graph(\n",
    "    device='/gpu:0', # default is '/cpu:0'\n",
    "    short_edge_threshold=20, \n",
    "    # ^ node pairs or edges with distance < threshold pixels are merged\n",
    ")\n",
    "\n",
    "fig, ax = plt.subplots(figsize=(3, 3))\n",
    "pos_multi = nx.get_node_attributes(graph_multi, 'pos')\n",
    "nx.draw(graph_multi, pos_multi, ax=ax, \n",
    "        node_size=10, node_color='#A60628', \n",
    "        edge_color='#348ABD', width=2, alpha=0.8)\n",
    "plt.tight_layout()\n",
    "# plt.savefig('./assets/spectral_graph_multi_band.png', dpi=300)\n",
    "plt.show()"
   ]
  },
  {
   "cell_type": "markdown",
   "metadata": {},
   "source": [
    "### Node and Edge Attributes of the Spectral Graph Object"
   ]
  },
  {
   "cell_type": "markdown",
   "metadata": {},
   "source": [
    "The spectral graph is a `networkx.MultiGraph` object.\n",
    "\n",
    "- Node Attributes\n",
    "  1. `pos` : (2,)-numpy array\n",
    "     - the position of the node $(\\text{Re}(E), \\text{Im}(E))$\n",
    "  2. `dos` : float\n",
    "     - the density of states at the node\n",
    "  3. `potential` : float\n",
    "     - the spectral potential at the node\n",
    "- Edge Attributes\n",
    "  1. `weight` : float\n",
    "     - the weight of the edge, which is the **length** of the edge in the complex energy plane\n",
    "  2. `pts` : (w, 2)-numpy array\n",
    "     - the positions of the points constituting the edge, where `w` is the number of points along the edge, i.e., the length of the edge, equals `weight`\n",
    "  3. `avg_dos` : float\n",
    "     - the average density of states along the edge\n",
    "  4. `avg_potential` : float\n",
    "     - the average spectral potential along the edge"
   ]
  },
  {
   "cell_type": "code",
   "execution_count": null,
   "metadata": {},
   "outputs": [],
   "source": [
    "node_attr = dict(graph.nodes(data=True))\n",
    "edge_attr = list(graph.edges(data=True))\n",
    "\n",
    "np.set_printoptions(precision=5, suppress=True, threshold=20, edgeitems=3)\n",
    "print('The attributes of the first node\\n', node_attr[0], '\\n')\n",
    "print('The attributes of the first edge\\n', edge_attr[0][-1], '\\n')"
   ]
  },
  {
   "cell_type": "markdown",
   "metadata": {},
   "source": [
    "## Characteristic Polynomial Class (`p2g.CharPolyClass`)"
   ]
  },
  {
   "cell_type": "markdown",
   "metadata": {},
   "source": [
    "- A class of parametrized non-Hermitian lattices\n",
    "- Generate spectral properties, including **spectral graph** in parallel\n",
    "- Optimized for computational efficiency and numerical stability\n",
    "\n",
    "Let us add two parameters `{a,b}` to the aforementioned multi-band example and construct a `p2g.CharPolyClass` object."
   ]
  },
  {
   "cell_type": "code",
   "execution_count": null,
   "metadata": {},
   "outputs": [],
   "source": [
    "a, b = sp.symbols('a b', real=True)\n",
    "\n",
    "cp = p2g.CharPolyClass(\n",
    "    \"z**2 + a/z**2 + b*E*z - E**4\", \n",
    "    k=k, z=z, E=E,\n",
    "    params={a, b}, # pass parameters as a set\n",
    ")"
   ]
  },
  {
   "cell_type": "markdown",
   "metadata": {},
   "source": [
    "View a few auto-computed properties:"
   ]
  },
  {
   "cell_type": "code",
   "execution_count": null,
   "metadata": {},
   "outputs": [],
   "source": [
    "cp.ChP"
   ]
  },
  {
   "cell_type": "code",
   "execution_count": null,
   "metadata": {},
   "outputs": [],
   "source": [
    "cp.h_k"
   ]
  },
  {
   "cell_type": "code",
   "execution_count": null,
   "metadata": {},
   "outputs": [],
   "source": [
    "cp.h_z"
   ]
  },
  {
   "cell_type": "code",
   "execution_count": null,
   "metadata": {},
   "outputs": [],
   "source": [
    "cp.companion_E"
   ]
  },
  {
   "cell_type": "markdown",
   "metadata": {},
   "source": [
    "To get an array of spectral images or spectral graphs, we first prepare the values of the parameters `{a,b}`"
   ]
  },
  {
   "cell_type": "code",
   "execution_count": null,
   "metadata": {},
   "outputs": [],
   "source": [
    "a_array = np.linspace(-2, 1, 6)\n",
    "b_array = np.linspace(-1, 1, 6)\n",
    "a_grid, b_grid = np.meshgrid(a_array, b_array)\n",
    "param_dict = {a: a_grid, b: b_grid}\n",
    "print('a_grid shape:', a_grid.shape,\n",
    "    '\\nb_grid shape:', b_grid.shape)"
   ]
  },
  {
   "cell_type": "markdown",
   "metadata": {},
   "source": [
    "Note that **the value array of the parameters should have the same shape**, which is also **the shape of the output array of spectral images**"
   ]
  },
  {
   "cell_type": "code",
   "execution_count": null,
   "metadata": {},
   "outputs": [],
   "source": [
    "phi_arr, dos_arr, binaried_dos_arr, spectral_square = \\\n",
    "    cp.spectral_images(param_dict=param_dict, device='/cpu:0')\n",
    "print('phi_arr shape:', phi_arr.shape,\n",
    "    '\\ndos_arr shape:', dos_arr.shape,\n",
    "    '\\nbinaried_dos_arr shape:', binaried_dos_arr.shape)"
   ]
  },
  {
   "cell_type": "code",
   "execution_count": null,
   "metadata": {},
   "outputs": [],
   "source": [
    "from mpl_toolkits.axes_grid1 import ImageGrid\n",
    "\n",
    "fig = plt.figure(figsize=(13, 13))\n",
    "grid = ImageGrid(fig, 111, nrows_ncols=(6, 6), axes_pad=0, \n",
    "                 label_mode='L', share_all=True)\n",
    "\n",
    "for ax, (i, j) in zip(grid, [(i, j) for i in range(6) for j in range(6)]):\n",
    "    ax.imshow(phi_arr[i, j], extent=spectral_square[i, j], cmap='Spectral_r')\n",
    "    ax.set(xlabel='Re(E)', ylabel='Im(E)')\n",
    "    ax.text(\n",
    "        0.03, 0.97, f'a = {a_array[i]:.2f}, b = {b_array[j]:.2f}',\n",
    "        ha='left', va='top', transform=ax.transAxes,\n",
    "        fontsize=10, color='tab:red',\n",
    "        bbox=dict(alpha=0.8, facecolor='white')\n",
    "    )\n",
    "\n",
    "plt.tight_layout()\n",
    "# plt.savefig('./assets/ChP_spectral_potential_grid.png', dpi=72)\n",
    "plt.show()"
   ]
  },
  {
   "cell_type": "markdown",
   "metadata": {},
   "source": [
    "### An Array of Spectral Graphs"
   ]
  },
  {
   "cell_type": "code",
   "execution_count": null,
   "metadata": {},
   "outputs": [],
   "source": [
    "graph_flat, param_dict_flat = cp.spectral_graph(\n",
    "    param_dict=param_dict, device='/cpu:0',\n",
    "    short_edge_threshold=20,\n",
    ")\n",
    "print(graph_flat[:5])\n",
    "print(param_dict_flat)"
   ]
  },
  {
   "cell_type": "markdown",
   "metadata": {},
   "source": [
    "Note that the spectral graph is a `networkx.MultiGraph` object, which cannot be directly returned as a multi-dimensional numpy array of `MultiGraph`, except for the case of 1D array.\n",
    "Instead, we return a flattened list of `networkx.MultiGraph` objects, and the accompanying `param_dict_flat` is the dictionary that contains the corresponding flattened parameter values.\n",
    "\n",
    "It's recommended to pass the values of the parameters as `vectors` (1D arrays) instead of higher dimensional `ND arrays` to avoid the overhead of reshaping the output and the difficulty to retrieve / postprocess the spectral graphs."
   ]
  }
 ],
 "metadata": {
  "kernelspec": {
   "display_name": "pyg",
   "language": "python",
   "name": "python3"
  },
  "language_info": {
   "codemirror_mode": {
    "name": "ipython",
    "version": 3
   },
   "file_extension": ".py",
   "mimetype": "text/x-python",
   "name": "python",
   "nbconvert_exporter": "python",
   "pygments_lexer": "ipython3",
   "version": "3.12.11"
  }
 },
 "nbformat": 4,
 "nbformat_minor": 2
}
